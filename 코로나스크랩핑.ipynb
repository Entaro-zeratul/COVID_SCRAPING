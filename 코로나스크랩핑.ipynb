{
  "nbformat": 4,
  "nbformat_minor": 0,
  "metadata": {
    "colab": {
      "name": "Untitled0.ipynb",
      "provenance": [],
      "authorship_tag": "ABX9TyPhV6axFXgWdW4GAzhMPLow",
      "include_colab_link": true
    },
    "kernelspec": {
      "name": "python3",
      "display_name": "Python 3"
    }
  },
  "cells": [
    {
      "cell_type": "markdown",
      "metadata": {
        "id": "view-in-github",
        "colab_type": "text"
      },
      "source": [
        "<a href=\"https://colab.research.google.com/github/Entaro-zeratul/COVID_SCRAPING/blob/main/%EC%BD%94%EB%A1%9C%EB%82%98%EC%8A%A4%ED%81%AC%EB%9E%A9%ED%95%91.ipynb\" target=\"_parent\"><img src=\"https://colab.research.google.com/assets/colab-badge.svg\" alt=\"Open In Colab\"/></a>"
      ]
    },
    {
      "cell_type": "markdown",
      "metadata": {
        "id": "Ilq48b5TLyum"
      },
      "source": [
        "## 데이터 수집 vs 크롤링\r\n",
        "\r\n",
        "웹사이트 내용을 읽어 오는 것 -> 웹 데이터 수집, 스크래핑\r\n",
        "검색엔진이 하이퍼링크를 타고 웹 페이지 내용을 읽는 것 -> 크롤링\r\n",
        "\r\n",
        "**Request** --> 작은 브라우저로 웹사이트를 읽어 오는 목적\r\n",
        "**beautifulsoup4** --> html 사용"
      ]
    },
    {
      "cell_type": "markdown",
      "metadata": {
        "id": "1YZFghkHNK1A"
      },
      "source": [
        "## 지식 저작권 문제\r\n",
        "### 로봇 배제 표준\r\n",
        "로봇이 robots.txt 를 보고 이 자료를 긁어도 되는지 안되는지에 대한 내용\r\n",
        "\r\n",
        "https://www.seoul.go.kr/robots.txt 이런식으로 사이트 뒤에 robots.txt를 붙여서 확인한다.\r\n",
        "allow 는 긁어와도 되는 것이고 \r\n",
        "disallow는 안된다.\r\n",
        "\r\n",
        "### 저작권 정책\r\n",
        "사이트에서 저작권을 확인한다.\r\n",
        "\r\n",
        "###**굵은 텍스트** 무리한 네트워크 요청\r\n",
        "지나친 네트워크 요청(여러 데이터를 동시에 많이 긁어온다)를 한다면 DDOS(서비스 거부 공격) 로 의심 할 수 있다."
      ]
    },
    {
      "cell_type": "markdown",
      "metadata": {
        "id": "ugGALCReN-ze"
      },
      "source": [
        "# 데이터 수집 방법\r\n",
        "1. 수집하고자 하는 url를 알아온다.\r\n",
        "2. 파이썬의 작은 브라우저 request를 이용해 url에 접근한다.\r\n",
        "3. response.status_code 각 200 OK라면 정상 응답입니다.\r\n",
        "4. request의 response.text만 받아옵니다.\r\n",
        "5. html을 받아왔다면 bs(response.test, html.parser)로 해석합니다.\r\n",
        "6. soup.select를 통해 원하는 태크에 접근합니다.\r\n",
        "7. 목록을 받아옵니다.\r\n",
        "8. 목록에서 행을 하나씩 가져옵니다.\r\n",
        "9. 행을 모아서 데이터 프레임으로 만듭니다."
      ]
    },
    {
      "cell_type": "markdown",
      "metadata": {
        "id": "sFBtK4i4N62X"
      },
      "source": [
        "## JSON이란\r\n",
        "\r\n",
        "JSON(제이슨[1], JavaScript Object Notation)은 속성-값 쌍( attribute–value pairs and array data types (or any other serializable value)) 또는 \"키-값 쌍\"으로 이루어진 데이터 오브젝트를 전달하기 위해 인간이 읽을 수 있는 텍스트를 사용하는 개방형 표준 포맷이다. 비동기 브라우저/서버 통신 (AJAX)을 위해, 넓게는 XML(AJAX가 사용)을 대체하는 주요 데이터 포맷이다. 특히, 인터넷에서 자료를 주고 받을 때 그 자료를 표현하는 방법으로 알려져 있다. 자료의 종류에 큰 제한은 없으며, 특히 컴퓨터 프로그램의 변수값을 표현하는 데 적합하다.\r\n",
        "\r\n"
      ]
    },
    {
      "cell_type": "markdown",
      "metadata": {
        "id": "syuYrsDdQr8O"
      },
      "source": [
        "# 서울시 코로나 데이터 수집 순서\r\n",
        "1. 페이지별로 데이터 수집\r\n",
        "2. 전체 페이지 수집\r\n",
        "3. pd.concat([전체 데이터 리스트])로 데이터를 통합\r\n",
        "4. 데이터 전처리(html 태그 제거)\r\n",
        "5. to_csv로 데이터 병합\r\n",
        "6. pd.read_csv로 잘 저장 되었는지 확인\r\n",
        "7. 수집 분석 끝! 분석 시작\r\n"
      ]
    },
    {
      "cell_type": "code",
      "metadata": {
        "id": "5tB7c5-zMCnI"
      },
      "source": [
        "import pandas as pd\r\n",
        "import requests\r\n",
        "import tqdm\r\n"
      ],
      "execution_count": null,
      "outputs": []
    },
    {
      "cell_type": "code",
      "metadata": {
        "colab": {
          "base_uri": "https://localhost:8080/",
          "height": 35
        },
        "id": "dFdj5ckpRh6i",
        "outputId": "2ee62ce0-5b1f-4d67-8cb0-b0dbf152e180"
      },
      "source": [
        "url = 'https://news.seoul.go.kr/api/27/getCorona19Route/get_route_ajax.php?draw=1'\r\n",
        "# url = f'{url}&columns%5B0%5D%5Bdata%5D=0&columns%5B0%5D%5Bname%5D=&columns%5B0%5D%5Bsearchable%5D=true&columns%5B0%5D%5Borderable%5D=true&columns%5B0%5D%5Bsearch%5D%5Bvalue%5D=&columns%5B0%5D%5Bsearch%5D%5Bregex%5D=false&order%5B0%5D%5Bcolumn%5D=0&order%5B0%5D%5Bdir%5D=desc'\r\n",
        "url = f\"{url}&start=0&length=100\"\r\n",
        "#\"&search%5Bvalue%5D=&search%5Bregex%5D=true&_=1608000305693'\r\n",
        "url"
      ],
      "execution_count": null,
      "outputs": [
        {
          "output_type": "execute_result",
          "data": {
            "application/vnd.google.colaboratory.intrinsic+json": {
              "type": "string"
            },
            "text/plain": [
              "'https://news.seoul.go.kr/api/27/getCorona19Route/get_route_ajax.php?draw=1&start=0&length=100'"
            ]
          },
          "metadata": {
            "tags": []
          },
          "execution_count": 3
        }
      ]
    },
    {
      "cell_type": "code",
      "metadata": {
        "colab": {
          "base_uri": "https://localhost:8080/",
          "height": 404
        },
        "id": "N0yUMXEqT3v9",
        "outputId": "f2f2262d-ee76-449e-80ec-129d789733f0"
      },
      "source": [
        "response = requests.get(url)\r\n",
        "data_json = response.json()\r\n",
        "pd.DataFrame(data_json[\"data\"])"
      ],
      "execution_count": null,
      "outputs": [
        {
          "output_type": "execute_result",
          "data": {
            "text/html": [
              "<div>\n",
              "<style scoped>\n",
              "    .dataframe tbody tr th:only-of-type {\n",
              "        vertical-align: middle;\n",
              "    }\n",
              "\n",
              "    .dataframe tbody tr th {\n",
              "        vertical-align: top;\n",
              "    }\n",
              "\n",
              "    .dataframe thead th {\n",
              "        text-align: right;\n",
              "    }\n",
              "</style>\n",
              "<table border=\"1\" class=\"dataframe\">\n",
              "  <thead>\n",
              "    <tr style=\"text-align: right;\">\n",
              "      <th></th>\n",
              "      <th>0</th>\n",
              "    </tr>\n",
              "  </thead>\n",
              "  <tbody>\n",
              "    <tr>\n",
              "      <th>0</th>\n",
              "      <td>&lt;div class='moveText'&gt;&lt;table class=\"tNewStyle ...</td>\n",
              "    </tr>\n",
              "    <tr>\n",
              "      <th>1</th>\n",
              "      <td>&lt;div class='moveText'&gt;&lt;table class=\"tNewStyle ...</td>\n",
              "    </tr>\n",
              "    <tr>\n",
              "      <th>2</th>\n",
              "      <td>&lt;div class='moveText'&gt;&lt;table class=\"tNewStyle ...</td>\n",
              "    </tr>\n",
              "    <tr>\n",
              "      <th>3</th>\n",
              "      <td>&lt;div class='moveText'&gt;&lt;table class=\"tNewStyle ...</td>\n",
              "    </tr>\n",
              "    <tr>\n",
              "      <th>4</th>\n",
              "      <td>&lt;div class='moveText'&gt;&lt;table class=\"tNewStyle ...</td>\n",
              "    </tr>\n",
              "    <tr>\n",
              "      <th>...</th>\n",
              "      <td>...</td>\n",
              "    </tr>\n",
              "    <tr>\n",
              "      <th>95</th>\n",
              "      <td>&lt;div class='moveText'&gt;&lt;table class=\"tNewStyle ...</td>\n",
              "    </tr>\n",
              "    <tr>\n",
              "      <th>96</th>\n",
              "      <td>&lt;div class='moveText'&gt;&lt;table class=\"tNewStyle ...</td>\n",
              "    </tr>\n",
              "    <tr>\n",
              "      <th>97</th>\n",
              "      <td>&lt;div class='moveText'&gt;&lt;table class=\"tNewStyle ...</td>\n",
              "    </tr>\n",
              "    <tr>\n",
              "      <th>98</th>\n",
              "      <td>&lt;div class='moveText'&gt;&lt;table class=\"tNewStyle ...</td>\n",
              "    </tr>\n",
              "    <tr>\n",
              "      <th>99</th>\n",
              "      <td>&lt;div class='moveText'&gt;&lt;table class=\"tNewStyle ...</td>\n",
              "    </tr>\n",
              "  </tbody>\n",
              "</table>\n",
              "<p>100 rows × 1 columns</p>\n",
              "</div>"
            ],
            "text/plain": [
              "                                                    0\n",
              "0   <div class='moveText'><table class=\"tNewStyle ...\n",
              "1   <div class='moveText'><table class=\"tNewStyle ...\n",
              "2   <div class='moveText'><table class=\"tNewStyle ...\n",
              "3   <div class='moveText'><table class=\"tNewStyle ...\n",
              "4   <div class='moveText'><table class=\"tNewStyle ...\n",
              "..                                                ...\n",
              "95  <div class='moveText'><table class=\"tNewStyle ...\n",
              "96  <div class='moveText'><table class=\"tNewStyle ...\n",
              "97  <div class='moveText'><table class=\"tNewStyle ...\n",
              "98  <div class='moveText'><table class=\"tNewStyle ...\n",
              "99  <div class='moveText'><table class=\"tNewStyle ...\n",
              "\n",
              "[100 rows x 1 columns]"
            ]
          },
          "metadata": {
            "tags": []
          },
          "execution_count": 4
        }
      ]
    },
    {
      "cell_type": "code",
      "metadata": {
        "colab": {
          "base_uri": "https://localhost:8080/"
        },
        "id": "fELIuGtvT4NA",
        "outputId": "6840061b-c129-49ee-d1a8-67e1476d2677"
      },
      "source": [
        "records_total = data_json['recordsTotal']\r\n",
        "records_total"
      ],
      "execution_count": null,
      "outputs": [
        {
          "output_type": "execute_result",
          "data": {
            "text/plain": [
              "463"
            ]
          },
          "metadata": {
            "tags": []
          },
          "execution_count": 5
        }
      ]
    },
    {
      "cell_type": "code",
      "metadata": {
        "id": "ZcZ44TNhVdH-"
      },
      "source": [
        "# 여러 페이지를 가져오자\r\n",
        "def get_seoul_covid20_100(page_no):\r\n",
        "    \"\"\"\r\n",
        "    page_no: 입력값으로 페이지 번호를 입력하면 해당 번호의 데이터를 가져옴\r\n",
        "    start_no: 입력받은 페이지 넘버\r\n",
        "    \"\"\"\r\n",
        "    start_no = (page_no - 1) * 100\r\n",
        "    url = f\"https://news.seoul.go.kr/api/27/getCorona19Status/get_status_ajax.php?draw={page_no}\"\r\n",
        "    url = f\"{url}&order%5B0%5D%5Bdir%5D=desc&start={start_no}&length=100\"\r\n",
        "    reponse = requests.get(url)\r\n",
        "    data_json = reponse.json()\r\n",
        "    return data_json"
      ],
      "execution_count": null,
      "outputs": []
    },
    {
      "cell_type": "code",
      "metadata": {
        "colab": {
          "base_uri": "https://localhost:8080/"
        },
        "id": "316U1dZ_OoTW",
        "outputId": "dc25696e-aba3-4d27-9051-5a11e92ab223"
      },
      "source": [
        "get_seoul_covid20_100(-1)"
      ],
      "execution_count": null,
      "outputs": [
        {
          "output_type": "execute_result",
          "data": {
            "text/plain": [
              "{'data': [], 'draw': -1, 'recordsFiltered': 463, 'recordsTotal': 463}"
            ]
          },
          "metadata": {
            "tags": []
          },
          "execution_count": 9
        }
      ]
    },
    {
      "cell_type": "markdown",
      "metadata": {
        "id": "3ARFZ1cPO8dJ"
      },
      "source": [
        "tqdm을 이용해 for문의 진행도를 알아보자 느린 for문이지만 상태 정도르 알 수 있다.\r\n"
      ]
    },
    {
      "cell_type": "code",
      "metadata": {
        "id": "kuHxJvV9OufK"
      },
      "source": [
        "import time\r\n",
        "from tqdm import trange"
      ],
      "execution_count": null,
      "outputs": []
    },
    {
      "cell_type": "code",
      "metadata": {
        "colab": {
          "base_uri": "https://localhost:8080/"
        },
        "id": "nIEDbz-9PMPA",
        "outputId": "f4221efa-e3d9-4d82-e18a-c12a63d2fb92"
      },
      "source": [
        "# 전체 페이지를 가져오기 전에 일부 페이지만 실행\r\n",
        "page_list = []\r\n",
        "# 데이터가 제대로 로드 되는지 앞부분 3페이지 정도만 확인하고 전체페이지를 가져오록 합니다.\r\n",
        "# 처음부터 전체 페이지를 수집하면 중간에 오류가 나도 찾기가 어렵습니다.\r\n",
        "# 일부만 우선 가져와 보고 잘 동작한다면 전체를 가져오도록 합니다.\r\n",
        "all_page = 3\r\n",
        "for page_no in trange(all_page + 1):\r\n",
        "    one_page = get_seoul_covid20_100(page_no)\r\n",
        "    one_page = pd.DataFrame(one_page[\"data\"])\r\n",
        "    page_list.append(one_page)\r\n",
        "    # 서버에 한번에 너무 많은요청을 보내면 서버에 부담이 됩니다.\r\n",
        "    # 서버에 부담을 주지 않기 위애 0.5초씩 쉬었다 가져옵니다.\r\n",
        "    time.sleep(0.5)"
      ],
      "execution_count": null,
      "outputs": [
        {
          "output_type": "stream",
          "text": [
            "100%|██████████| 4/4 [00:04<00:00,  1.07s/it]\n"
          ],
          "name": "stderr"
        }
      ]
    },
    {
      "cell_type": "code",
      "metadata": {
        "colab": {
          "base_uri": "https://localhost:8080/",
          "height": 404
        },
        "id": "24SBjBjDPkb2",
        "outputId": "bb9460b1-e1b7-4c0a-b410-41ef5f839eff"
      },
      "source": [
        "pd.concat(page_list)"
      ],
      "execution_count": null,
      "outputs": [
        {
          "output_type": "execute_result",
          "data": {
            "text/html": [
              "<div>\n",
              "<style scoped>\n",
              "    .dataframe tbody tr th:only-of-type {\n",
              "        vertical-align: middle;\n",
              "    }\n",
              "\n",
              "    .dataframe tbody tr th {\n",
              "        vertical-align: top;\n",
              "    }\n",
              "\n",
              "    .dataframe thead th {\n",
              "        text-align: right;\n",
              "    }\n",
              "</style>\n",
              "<table border=\"1\" class=\"dataframe\">\n",
              "  <thead>\n",
              "    <tr style=\"text-align: right;\">\n",
              "      <th></th>\n",
              "      <th>0</th>\n",
              "      <th>1</th>\n",
              "      <th>2</th>\n",
              "      <th>3</th>\n",
              "      <th>4</th>\n",
              "      <th>5</th>\n",
              "      <th>6</th>\n",
              "    </tr>\n",
              "  </thead>\n",
              "  <tbody>\n",
              "    <tr>\n",
              "      <th>0</th>\n",
              "      <td>&lt;p class='corona19_no'&gt;12657&lt;/p&gt;</td>\n",
              "      <td>43494</td>\n",
              "      <td>12.14.</td>\n",
              "      <td>동대문구</td>\n",
              "      <td>-</td>\n",
              "      <td>기타 확진자 접촉</td>\n",
              "      <td>&lt;b class=''&gt;&lt;/b&gt;</td>\n",
              "    </tr>\n",
              "    <tr>\n",
              "      <th>1</th>\n",
              "      <td>&lt;p class='corona19_no'&gt;12656&lt;/p&gt;</td>\n",
              "      <td>43495</td>\n",
              "      <td>12.14.</td>\n",
              "      <td>관악구</td>\n",
              "      <td>-</td>\n",
              "      <td>기타 확진자 접촉</td>\n",
              "      <td>&lt;b class=''&gt;&lt;/b&gt;</td>\n",
              "    </tr>\n",
              "    <tr>\n",
              "      <th>2</th>\n",
              "      <td>&lt;p class='corona19_no'&gt;12655&lt;/p&gt;</td>\n",
              "      <td>44350</td>\n",
              "      <td>12.14.</td>\n",
              "      <td>강서구</td>\n",
              "      <td>-</td>\n",
              "      <td>기타 확진자 접촉</td>\n",
              "      <td>&lt;b class=''&gt;&lt;/b&gt;</td>\n",
              "    </tr>\n",
              "    <tr>\n",
              "      <th>3</th>\n",
              "      <td>&lt;p class='corona19_no'&gt;12654&lt;/p&gt;</td>\n",
              "      <td>44335</td>\n",
              "      <td>12.14.</td>\n",
              "      <td>광진구</td>\n",
              "      <td>-</td>\n",
              "      <td>동부구치소 관련</td>\n",
              "      <td>&lt;b class=''&gt;&lt;/b&gt;</td>\n",
              "    </tr>\n",
              "    <tr>\n",
              "      <th>4</th>\n",
              "      <td>&lt;p class='corona19_no'&gt;12653&lt;/p&gt;</td>\n",
              "      <td>44334</td>\n",
              "      <td>12.14.</td>\n",
              "      <td>광진구</td>\n",
              "      <td>-</td>\n",
              "      <td>기타 확진자 접촉</td>\n",
              "      <td>&lt;b class=''&gt;&lt;/b&gt;</td>\n",
              "    </tr>\n",
              "    <tr>\n",
              "      <th>...</th>\n",
              "      <td>...</td>\n",
              "      <td>...</td>\n",
              "      <td>...</td>\n",
              "      <td>...</td>\n",
              "      <td>...</td>\n",
              "      <td>...</td>\n",
              "      <td>...</td>\n",
              "    </tr>\n",
              "    <tr>\n",
              "      <th>95</th>\n",
              "      <td>&lt;p class='corona19_no'&gt;12362&lt;/p&gt;</td>\n",
              "      <td>43293</td>\n",
              "      <td>12.13.</td>\n",
              "      <td>강서구</td>\n",
              "      <td>-</td>\n",
              "      <td>강서구 교회 관련</td>\n",
              "      <td>&lt;b class='status2'&gt;&lt;/b&gt;</td>\n",
              "    </tr>\n",
              "    <tr>\n",
              "      <th>96</th>\n",
              "      <td>&lt;p class='corona19_no'&gt;12361&lt;/p&gt;</td>\n",
              "      <td>43294</td>\n",
              "      <td>12.13.</td>\n",
              "      <td>강서구</td>\n",
              "      <td>-</td>\n",
              "      <td>기타 확진자 접촉</td>\n",
              "      <td>&lt;b class='status2'&gt;&lt;/b&gt;</td>\n",
              "    </tr>\n",
              "    <tr>\n",
              "      <th>97</th>\n",
              "      <td>&lt;p class='corona19_no'&gt;12360&lt;/p&gt;</td>\n",
              "      <td>43295</td>\n",
              "      <td>12.13.</td>\n",
              "      <td>강서구</td>\n",
              "      <td>-</td>\n",
              "      <td>기타 확진자 접촉</td>\n",
              "      <td>&lt;b class='status2'&gt;&lt;/b&gt;</td>\n",
              "    </tr>\n",
              "    <tr>\n",
              "      <th>98</th>\n",
              "      <td>&lt;p class='corona19_no'&gt;12359&lt;/p&gt;</td>\n",
              "      <td>43304</td>\n",
              "      <td>12.13.</td>\n",
              "      <td>강서구</td>\n",
              "      <td>-</td>\n",
              "      <td>기타 확진자 접촉</td>\n",
              "      <td>&lt;b class='status2'&gt;&lt;/b&gt;</td>\n",
              "    </tr>\n",
              "    <tr>\n",
              "      <th>99</th>\n",
              "      <td>&lt;p class='corona19_no'&gt;12358&lt;/p&gt;</td>\n",
              "      <td>43305</td>\n",
              "      <td>12.13.</td>\n",
              "      <td>강서구</td>\n",
              "      <td>-</td>\n",
              "      <td>강서구 교회 관련</td>\n",
              "      <td>&lt;b class='status2'&gt;&lt;/b&gt;</td>\n",
              "    </tr>\n",
              "  </tbody>\n",
              "</table>\n",
              "<p>300 rows × 7 columns</p>\n",
              "</div>"
            ],
            "text/plain": [
              "                                   0      1  ...          5                        6\n",
              "0   <p class='corona19_no'>12657</p>  43494  ...  기타 확진자 접촉         <b class=''></b>\n",
              "1   <p class='corona19_no'>12656</p>  43495  ...  기타 확진자 접촉         <b class=''></b>\n",
              "2   <p class='corona19_no'>12655</p>  44350  ...  기타 확진자 접촉         <b class=''></b>\n",
              "3   <p class='corona19_no'>12654</p>  44335  ...   동부구치소 관련         <b class=''></b>\n",
              "4   <p class='corona19_no'>12653</p>  44334  ...  기타 확진자 접촉         <b class=''></b>\n",
              "..                               ...    ...  ...        ...                      ...\n",
              "95  <p class='corona19_no'>12362</p>  43293  ...  강서구 교회 관련  <b class='status2'></b>\n",
              "96  <p class='corona19_no'>12361</p>  43294  ...  기타 확진자 접촉  <b class='status2'></b>\n",
              "97  <p class='corona19_no'>12360</p>  43295  ...  기타 확진자 접촉  <b class='status2'></b>\n",
              "98  <p class='corona19_no'>12359</p>  43304  ...  기타 확진자 접촉  <b class='status2'></b>\n",
              "99  <p class='corona19_no'>12358</p>  43305  ...  강서구 교회 관련  <b class='status2'></b>\n",
              "\n",
              "[300 rows x 7 columns]"
            ]
          },
          "metadata": {
            "tags": []
          },
          "execution_count": 28
        }
      ]
    },
    {
      "cell_type": "code",
      "metadata": {
        "id": "4qUTxH_tPtkB"
      },
      "source": [
        "def get_multi_page_list(start_page, end_page = 80):\r\n",
        "    # 데이터가 제대로 로드 되는지 앞부분 3페이지 정도만 확인하고 전체페이지를 가져오록 합니다.\r\n",
        "    \r\n",
        "    page_list = []\r\n",
        "    for page_no in trange(start_page, end_page + 1):\r\n",
        "        one_page = get_seoul_covid20_100(page_no)\r\n",
        "        if len(one_page[\"data\"]) > 0:\r\n",
        "            one_page = pd.DataFrame(one_page[\"data\"])\r\n",
        "            page_list.append(one_page)\r\n",
        "            # 서버에 한번에 너무 많은요청을 보내면 서버에 부담이 됩니다.\r\n",
        "            # 서버에 부담을 주지 않기 위애 0.5초씩 쉬었다 가져옵니다.\r\n",
        "            time.sleep(0.5)\r\n",
        "        else:\r\n",
        "            # 수집된 값이 없다면 False를 반환합니다.\r\n",
        "            # False 반환 시 수집한 리스트를 반환하도록 합니다.\r\n",
        "            return page_list\r\n",
        "    return page_list"
      ],
      "execution_count": null,
      "outputs": []
    },
    {
      "cell_type": "code",
      "metadata": {
        "colab": {
          "base_uri": "https://localhost:8080/"
        },
        "id": "wR86kU53QBjg",
        "outputId": "19c45425-1a85-4daa-85b3-2a3cfd09e4e0"
      },
      "source": [
        "end_page = 4\r\n",
        "# 시작페이지와 끝페이지를 꼭 확인해 주세요.\r\n",
        "start_page = 1\r\n",
        "# end_page = 88\r\n",
        "page_list = get_multi_page_list(start_page, end_page)\r\n",
        "# 데이터가 너무 많기 때문에 슬라이싱으로 1개만 미리보기\r\n",
        "page_list[:1]"
      ],
      "execution_count": null,
      "outputs": [
        {
          "output_type": "stream",
          "text": [
            "100%|██████████| 4/4 [00:04<00:00,  1.07s/it]\n"
          ],
          "name": "stderr"
        },
        {
          "output_type": "execute_result",
          "data": {
            "text/plain": [
              "[                                   0      1  ...               5                 6\n",
              " 0   <p class='corona19_no'>12657</p>  43494  ...       기타 확진자 접촉  <b class=''></b>\n",
              " 1   <p class='corona19_no'>12656</p>  43495  ...       기타 확진자 접촉  <b class=''></b>\n",
              " 2   <p class='corona19_no'>12655</p>  44350  ...       기타 확진자 접촉  <b class=''></b>\n",
              " 3   <p class='corona19_no'>12654</p>  44335  ...        동부구치소 관련  <b class=''></b>\n",
              " 4   <p class='corona19_no'>12653</p>  44334  ...       기타 확진자 접촉  <b class=''></b>\n",
              " ..                               ...    ...  ...             ...               ...\n",
              " 95  <p class='corona19_no'>12562</p>  43955  ...       기타 확진자 접촉  <b class=''></b>\n",
              " 96  <p class='corona19_no'>12561</p>  43980  ...  용산구 소재 건설현장 관련  <b class=''></b>\n",
              " 97  <p class='corona19_no'>12560</p>  43686  ...        감염경로 조사중  <b class=''></b>\n",
              " 98  <p class='corona19_no'>12559</p>  43693  ...       기타 확진자 접촉  <b class=''></b>\n",
              " 99  <p class='corona19_no'>12558</p>  43972  ...        감염경로 조사중  <b class=''></b>\n",
              " \n",
              " [100 rows x 7 columns]]"
            ]
          },
          "metadata": {
            "tags": []
          },
          "execution_count": 34
        }
      ]
    },
    {
      "cell_type": "code",
      "metadata": {
        "colab": {
          "base_uri": "https://localhost:8080/"
        },
        "id": "hNLcGskBQFzv",
        "outputId": "24dd6fec-a7d8-457f-f26a-3c417efc260b"
      },
      "source": [
        "# concat을 통해 하나의 데이터프레임으로 합쳐줍니다.\r\n",
        "df_all = pd.concat(page_list)\r\n",
        "df_all.shape"
      ],
      "execution_count": null,
      "outputs": [
        {
          "output_type": "execute_result",
          "data": {
            "text/plain": [
              "(400, 7)"
            ]
          },
          "metadata": {
            "tags": []
          },
          "execution_count": 35
        }
      ]
    },
    {
      "cell_type": "code",
      "metadata": {
        "colab": {
          "base_uri": "https://localhost:8080/",
          "height": 47
        },
        "id": "ARxLrQeNQXEQ",
        "outputId": "ba3bdced-7dcc-4400-ab03-3c3c12e5bfcb"
      },
      "source": [
        "url = \"http://www.seoul.go.kr/coronaV/coronaStatus.do\"\r\n",
        "url\r\n",
        "\r\n",
        "table = pd.read_html(url)\r\n",
        "df = table[3]\r\n",
        "df.head()"
      ],
      "execution_count": null,
      "outputs": [
        {
          "output_type": "execute_result",
          "data": {
            "text/html": [
              "<div>\n",
              "<style scoped>\n",
              "    .dataframe tbody tr th:only-of-type {\n",
              "        vertical-align: middle;\n",
              "    }\n",
              "\n",
              "    .dataframe tbody tr th {\n",
              "        vertical-align: top;\n",
              "    }\n",
              "\n",
              "    .dataframe thead th {\n",
              "        text-align: right;\n",
              "    }\n",
              "</style>\n",
              "<table border=\"1\" class=\"dataframe\">\n",
              "  <thead>\n",
              "    <tr style=\"text-align: right;\">\n",
              "      <th></th>\n",
              "      <th>연번</th>\n",
              "      <th>환자</th>\n",
              "      <th>확진일</th>\n",
              "      <th>거주지</th>\n",
              "      <th>여행력</th>\n",
              "      <th>접촉력</th>\n",
              "      <th>퇴원현황</th>\n",
              "    </tr>\n",
              "  </thead>\n",
              "  <tbody>\n",
              "  </tbody>\n",
              "</table>\n",
              "</div>"
            ],
            "text/plain": [
              "Empty DataFrame\n",
              "Columns: [연번, 환자, 확진일, 거주지, 여행력, 접촉력, 퇴원현황]\n",
              "Index: []"
            ]
          },
          "metadata": {
            "tags": []
          },
          "execution_count": 37
        }
      ]
    },
    {
      "cell_type": "code",
      "metadata": {
        "colab": {
          "base_uri": "https://localhost:8080/",
          "height": 137
        },
        "id": "Ol_8-VrfQZvn",
        "outputId": "70693ee5-d2ef-4421-c57c-362905d52922"
      },
      "source": [
        "df_all.head(3)"
      ],
      "execution_count": null,
      "outputs": [
        {
          "output_type": "execute_result",
          "data": {
            "text/html": [
              "<div>\n",
              "<style scoped>\n",
              "    .dataframe tbody tr th:only-of-type {\n",
              "        vertical-align: middle;\n",
              "    }\n",
              "\n",
              "    .dataframe tbody tr th {\n",
              "        vertical-align: top;\n",
              "    }\n",
              "\n",
              "    .dataframe thead th {\n",
              "        text-align: right;\n",
              "    }\n",
              "</style>\n",
              "<table border=\"1\" class=\"dataframe\">\n",
              "  <thead>\n",
              "    <tr style=\"text-align: right;\">\n",
              "      <th></th>\n",
              "      <th>0</th>\n",
              "      <th>1</th>\n",
              "      <th>2</th>\n",
              "      <th>3</th>\n",
              "      <th>4</th>\n",
              "      <th>5</th>\n",
              "      <th>6</th>\n",
              "    </tr>\n",
              "  </thead>\n",
              "  <tbody>\n",
              "    <tr>\n",
              "      <th>0</th>\n",
              "      <td>&lt;p class='corona19_no'&gt;12657&lt;/p&gt;</td>\n",
              "      <td>43494</td>\n",
              "      <td>12.14.</td>\n",
              "      <td>동대문구</td>\n",
              "      <td>-</td>\n",
              "      <td>기타 확진자 접촉</td>\n",
              "      <td>&lt;b class=''&gt;&lt;/b&gt;</td>\n",
              "    </tr>\n",
              "    <tr>\n",
              "      <th>1</th>\n",
              "      <td>&lt;p class='corona19_no'&gt;12656&lt;/p&gt;</td>\n",
              "      <td>43495</td>\n",
              "      <td>12.14.</td>\n",
              "      <td>관악구</td>\n",
              "      <td>-</td>\n",
              "      <td>기타 확진자 접촉</td>\n",
              "      <td>&lt;b class=''&gt;&lt;/b&gt;</td>\n",
              "    </tr>\n",
              "    <tr>\n",
              "      <th>2</th>\n",
              "      <td>&lt;p class='corona19_no'&gt;12655&lt;/p&gt;</td>\n",
              "      <td>44350</td>\n",
              "      <td>12.14.</td>\n",
              "      <td>강서구</td>\n",
              "      <td>-</td>\n",
              "      <td>기타 확진자 접촉</td>\n",
              "      <td>&lt;b class=''&gt;&lt;/b&gt;</td>\n",
              "    </tr>\n",
              "  </tbody>\n",
              "</table>\n",
              "</div>"
            ],
            "text/plain": [
              "                                  0      1  ...          5                 6\n",
              "0  <p class='corona19_no'>12657</p>  43494  ...  기타 확진자 접촉  <b class=''></b>\n",
              "1  <p class='corona19_no'>12656</p>  43495  ...  기타 확진자 접촉  <b class=''></b>\n",
              "2  <p class='corona19_no'>12655</p>  44350  ...  기타 확진자 접촉  <b class=''></b>\n",
              "\n",
              "[3 rows x 7 columns]"
            ]
          },
          "metadata": {
            "tags": []
          },
          "execution_count": 38
        }
      ]
    },
    {
      "cell_type": "code",
      "metadata": {
        "colab": {
          "base_uri": "https://localhost:8080/"
        },
        "id": "MISauRigRW0m",
        "outputId": "f6f4a701-fc26-4e38-dd46-98b66d24b032"
      },
      "source": [
        "cols = df.columns.tolist()\r\n",
        "cols"
      ],
      "execution_count": null,
      "outputs": [
        {
          "output_type": "execute_result",
          "data": {
            "text/plain": [
              "['연번', '환자', '확진일', '거주지', '여행력', '접촉력', '퇴원현황']"
            ]
          },
          "metadata": {
            "tags": []
          },
          "execution_count": 39
        }
      ]
    },
    {
      "cell_type": "code",
      "metadata": {
        "colab": {
          "base_uri": "https://localhost:8080/",
          "height": 137
        },
        "id": "pKwKzz_1RbT2",
        "outputId": "bc6ea382-c64c-4011-bf72-bb7ed8fe3dd8"
      },
      "source": [
        "df_all.columns = cols\r\n",
        "df_all.head(3)"
      ],
      "execution_count": null,
      "outputs": [
        {
          "output_type": "execute_result",
          "data": {
            "text/html": [
              "<div>\n",
              "<style scoped>\n",
              "    .dataframe tbody tr th:only-of-type {\n",
              "        vertical-align: middle;\n",
              "    }\n",
              "\n",
              "    .dataframe tbody tr th {\n",
              "        vertical-align: top;\n",
              "    }\n",
              "\n",
              "    .dataframe thead th {\n",
              "        text-align: right;\n",
              "    }\n",
              "</style>\n",
              "<table border=\"1\" class=\"dataframe\">\n",
              "  <thead>\n",
              "    <tr style=\"text-align: right;\">\n",
              "      <th></th>\n",
              "      <th>연번</th>\n",
              "      <th>환자</th>\n",
              "      <th>확진일</th>\n",
              "      <th>거주지</th>\n",
              "      <th>여행력</th>\n",
              "      <th>접촉력</th>\n",
              "      <th>퇴원현황</th>\n",
              "    </tr>\n",
              "  </thead>\n",
              "  <tbody>\n",
              "    <tr>\n",
              "      <th>0</th>\n",
              "      <td>&lt;p class='corona19_no'&gt;12657&lt;/p&gt;</td>\n",
              "      <td>43494</td>\n",
              "      <td>12.14.</td>\n",
              "      <td>동대문구</td>\n",
              "      <td>-</td>\n",
              "      <td>기타 확진자 접촉</td>\n",
              "      <td>&lt;b class=''&gt;&lt;/b&gt;</td>\n",
              "    </tr>\n",
              "    <tr>\n",
              "      <th>1</th>\n",
              "      <td>&lt;p class='corona19_no'&gt;12656&lt;/p&gt;</td>\n",
              "      <td>43495</td>\n",
              "      <td>12.14.</td>\n",
              "      <td>관악구</td>\n",
              "      <td>-</td>\n",
              "      <td>기타 확진자 접촉</td>\n",
              "      <td>&lt;b class=''&gt;&lt;/b&gt;</td>\n",
              "    </tr>\n",
              "    <tr>\n",
              "      <th>2</th>\n",
              "      <td>&lt;p class='corona19_no'&gt;12655&lt;/p&gt;</td>\n",
              "      <td>44350</td>\n",
              "      <td>12.14.</td>\n",
              "      <td>강서구</td>\n",
              "      <td>-</td>\n",
              "      <td>기타 확진자 접촉</td>\n",
              "      <td>&lt;b class=''&gt;&lt;/b&gt;</td>\n",
              "    </tr>\n",
              "  </tbody>\n",
              "</table>\n",
              "</div>"
            ],
            "text/plain": [
              "                                 연번     환자  ...        접촉력              퇴원현황\n",
              "0  <p class='corona19_no'>12657</p>  43494  ...  기타 확진자 접촉  <b class=''></b>\n",
              "1  <p class='corona19_no'>12656</p>  43495  ...  기타 확진자 접촉  <b class=''></b>\n",
              "2  <p class='corona19_no'>12655</p>  44350  ...  기타 확진자 접촉  <b class=''></b>\n",
              "\n",
              "[3 rows x 7 columns]"
            ]
          },
          "metadata": {
            "tags": []
          },
          "execution_count": 40
        }
      ]
    },
    {
      "cell_type": "code",
      "metadata": {
        "id": "MtFTRFRmRgf0"
      },
      "source": [
        "import re\r\n",
        "def extract_number(num_string):\r\n",
        "    if type(num_string) == str:\r\n",
        "        num_string = num_string.replace(\"corona19\", \"\")\r\n",
        "        num = re.sub(\"[^0-9]\", \"\", num_string)\r\n",
        "        num = int(num)\r\n",
        "        return num\r\n",
        "    else:\r\n",
        "        return num_string"
      ],
      "execution_count": null,
      "outputs": []
    },
    {
      "cell_type": "code",
      "metadata": {
        "colab": {
          "base_uri": "https://localhost:8080/"
        },
        "id": "IjGxty9-Rnrq",
        "outputId": "ba42c21c-6efb-437b-f1d5-49280915dd9b"
      },
      "source": [
        "num_string = \"<p class='corona19_no'>7625</p>\"\r\n",
        "extract_number(num_string)"
      ],
      "execution_count": null,
      "outputs": [
        {
          "output_type": "execute_result",
          "data": {
            "text/plain": [
              "7625"
            ]
          },
          "metadata": {
            "tags": []
          },
          "execution_count": 42
        }
      ]
    },
    {
      "cell_type": "code",
      "metadata": {
        "id": "DBI710j7RqW0"
      },
      "source": [
        "df_all[\"연번\"] = df_all[\"연번\"].map(extract_number)"
      ],
      "execution_count": null,
      "outputs": []
    },
    {
      "cell_type": "code",
      "metadata": {
        "colab": {
          "base_uri": "https://localhost:8080/"
        },
        "id": "7nNVaNRJRsxZ",
        "outputId": "d6315f58-e803-4a63-bea8-f0793e93e254"
      },
      "source": [
        "df_all[\"연번\"].head()"
      ],
      "execution_count": null,
      "outputs": [
        {
          "output_type": "execute_result",
          "data": {
            "text/plain": [
              "0    12657\n",
              "1    12656\n",
              "2    12655\n",
              "3    12654\n",
              "4    12653\n",
              "Name: 연번, dtype: int64"
            ]
          },
          "metadata": {
            "tags": []
          },
          "execution_count": 44
        }
      ]
    },
    {
      "cell_type": "code",
      "metadata": {
        "id": "j3g14q7QRvb6"
      },
      "source": [
        "def extract_hangeul(origin_text):\r\n",
        "    subtract_text = re.sub(\"[^가-힣]\", \"\", origin_text)\r\n",
        "    return subtract_text"
      ],
      "execution_count": null,
      "outputs": []
    },
    {
      "cell_type": "code",
      "metadata": {
        "colab": {
          "base_uri": "https://localhost:8080/",
          "height": 35
        },
        "id": "z1Jc9wfARxoZ",
        "outputId": "503b4311-8985-46ba-9ef1-15353938adf1"
      },
      "source": [
        "extract_hangeul(\"<b class='status1'>퇴원</b>\")"
      ],
      "execution_count": null,
      "outputs": [
        {
          "output_type": "execute_result",
          "data": {
            "application/vnd.google.colaboratory.intrinsic+json": {
              "type": "string"
            },
            "text/plain": [
              "'퇴원'"
            ]
          },
          "metadata": {
            "tags": []
          },
          "execution_count": 46
        }
      ]
    },
    {
      "cell_type": "code",
      "metadata": {
        "colab": {
          "base_uri": "https://localhost:8080/"
        },
        "id": "jUKI_6dORzcw",
        "outputId": "c61731a6-c5cc-4658-9fad-ec286c9dce8c"
      },
      "source": [
        "df_all[\"퇴원현황\"].value_counts()"
      ],
      "execution_count": null,
      "outputs": [
        {
          "output_type": "execute_result",
          "data": {
            "text/plain": [
              "<b class=''></b>             353\n",
              "<b class='status2'></b>       46\n",
              "<b class='status2'>사망</b>      1\n",
              "Name: 퇴원현황, dtype: int64"
            ]
          },
          "metadata": {
            "tags": []
          },
          "execution_count": 47
        }
      ]
    },
    {
      "cell_type": "code",
      "metadata": {
        "colab": {
          "base_uri": "https://localhost:8080/"
        },
        "id": "SZbvR8cUR14c",
        "outputId": "3fad428c-7359-4f03-d7de-ce275614902a"
      },
      "source": [
        "import numpy as np\r\n",
        "df_all.loc[df_all[\"퇴원현황\"].str.contains(\"퇴원\"), \"퇴원현황\"] = \"퇴원\"\r\n",
        "df_all.loc[df_all[\"퇴원현황\"].str.contains(\"사망\"), \"퇴원현황\"] = \"사망\"\r\n",
        "df_all.loc[~df_all[\"퇴원현황\"].str.contains(\"퇴원|사망\"), \"퇴원현황\"] = np.nan\r\n",
        "df_all[\"퇴원현황\"].value_counts()"
      ],
      "execution_count": null,
      "outputs": [
        {
          "output_type": "execute_result",
          "data": {
            "text/plain": [
              "사망    1\n",
              "Name: 퇴원현황, dtype: int64"
            ]
          },
          "metadata": {
            "tags": []
          },
          "execution_count": 49
        }
      ]
    },
    {
      "cell_type": "code",
      "metadata": {
        "colab": {
          "base_uri": "https://localhost:8080/",
          "height": 35
        },
        "id": "1r-06LG1R5tz",
        "outputId": "7b5135e5-3978-451f-82de-26d79895758c"
      },
      "source": [
        "last_date = df_all.iloc[0][\"확진일\"]\r\n",
        "last_date"
      ],
      "execution_count": null,
      "outputs": [
        {
          "output_type": "execute_result",
          "data": {
            "application/vnd.google.colaboratory.intrinsic+json": {
              "type": "string"
            },
            "text/plain": [
              "'12.14.'"
            ]
          },
          "metadata": {
            "tags": []
          },
          "execution_count": 50
        }
      ]
    },
    {
      "cell_type": "code",
      "metadata": {
        "colab": {
          "base_uri": "https://localhost:8080/",
          "height": 35
        },
        "id": "kFxkAYuNR-38",
        "outputId": "50208f57-d5c6-4bcc-c5b9-94119239767f"
      },
      "source": [
        "date = last_date.replace(\".\", \"_\")\r\n",
        "date"
      ],
      "execution_count": null,
      "outputs": [
        {
          "output_type": "execute_result",
          "data": {
            "application/vnd.google.colaboratory.intrinsic+json": {
              "type": "string"
            },
            "text/plain": [
              "'12_14_'"
            ]
          },
          "metadata": {
            "tags": []
          },
          "execution_count": 51
        }
      ]
    },
    {
      "cell_type": "code",
      "metadata": {
        "colab": {
          "base_uri": "https://localhost:8080/",
          "height": 35
        },
        "id": "MolI9XYJSA6L",
        "outputId": "ca49eb0a-eee0-4862-c15f-5fe0a4963dcd"
      },
      "source": [
        "# 파일명을 만들어 줍니다.\r\n",
        "# file_name\r\n",
        "\r\n",
        "file_name = f\"seoul-covid19-{date}.csv\"\r\n",
        "file_name"
      ],
      "execution_count": null,
      "outputs": [
        {
          "output_type": "execute_result",
          "data": {
            "application/vnd.google.colaboratory.intrinsic+json": {
              "type": "string"
            },
            "text/plain": [
              "'seoul-covid19-12_14_.csv'"
            ]
          },
          "metadata": {
            "tags": []
          },
          "execution_count": 52
        }
      ]
    },
    {
      "cell_type": "code",
      "metadata": {
        "id": "znfYNO75SCUI"
      },
      "source": [
        "# csv 파일로 저장합니다.\r\n",
        "df_all.to_csv(file_name, index=False)"
      ],
      "execution_count": null,
      "outputs": []
    },
    {
      "cell_type": "code",
      "metadata": {
        "id": "FRZnhArUSGrK",
        "colab": {
          "base_uri": "https://localhost:8080/",
          "height": 404
        },
        "outputId": "b7764256-122c-4bab-ea53-dc0bc0d05280"
      },
      "source": [
        "# 제대로 저장되었는지 확인합니다.\r\n",
        "pd.read_csv(file_name)"
      ],
      "execution_count": null,
      "outputs": [
        {
          "output_type": "execute_result",
          "data": {
            "text/html": [
              "<div>\n",
              "<style scoped>\n",
              "    .dataframe tbody tr th:only-of-type {\n",
              "        vertical-align: middle;\n",
              "    }\n",
              "\n",
              "    .dataframe tbody tr th {\n",
              "        vertical-align: top;\n",
              "    }\n",
              "\n",
              "    .dataframe thead th {\n",
              "        text-align: right;\n",
              "    }\n",
              "</style>\n",
              "<table border=\"1\" class=\"dataframe\">\n",
              "  <thead>\n",
              "    <tr style=\"text-align: right;\">\n",
              "      <th></th>\n",
              "      <th>연번</th>\n",
              "      <th>환자</th>\n",
              "      <th>확진일</th>\n",
              "      <th>거주지</th>\n",
              "      <th>여행력</th>\n",
              "      <th>접촉력</th>\n",
              "      <th>퇴원현황</th>\n",
              "    </tr>\n",
              "  </thead>\n",
              "  <tbody>\n",
              "    <tr>\n",
              "      <th>0</th>\n",
              "      <td>12657</td>\n",
              "      <td>43494</td>\n",
              "      <td>12.14.</td>\n",
              "      <td>동대문구</td>\n",
              "      <td>-</td>\n",
              "      <td>기타 확진자 접촉</td>\n",
              "      <td>NaN</td>\n",
              "    </tr>\n",
              "    <tr>\n",
              "      <th>1</th>\n",
              "      <td>12656</td>\n",
              "      <td>43495</td>\n",
              "      <td>12.14.</td>\n",
              "      <td>관악구</td>\n",
              "      <td>-</td>\n",
              "      <td>기타 확진자 접촉</td>\n",
              "      <td>NaN</td>\n",
              "    </tr>\n",
              "    <tr>\n",
              "      <th>2</th>\n",
              "      <td>12655</td>\n",
              "      <td>44350</td>\n",
              "      <td>12.14.</td>\n",
              "      <td>강서구</td>\n",
              "      <td>-</td>\n",
              "      <td>기타 확진자 접촉</td>\n",
              "      <td>NaN</td>\n",
              "    </tr>\n",
              "    <tr>\n",
              "      <th>3</th>\n",
              "      <td>12654</td>\n",
              "      <td>44335</td>\n",
              "      <td>12.14.</td>\n",
              "      <td>광진구</td>\n",
              "      <td>-</td>\n",
              "      <td>동부구치소 관련</td>\n",
              "      <td>NaN</td>\n",
              "    </tr>\n",
              "    <tr>\n",
              "      <th>4</th>\n",
              "      <td>12653</td>\n",
              "      <td>44334</td>\n",
              "      <td>12.14.</td>\n",
              "      <td>광진구</td>\n",
              "      <td>-</td>\n",
              "      <td>기타 확진자 접촉</td>\n",
              "      <td>NaN</td>\n",
              "    </tr>\n",
              "    <tr>\n",
              "      <th>...</th>\n",
              "      <td>...</td>\n",
              "      <td>...</td>\n",
              "      <td>...</td>\n",
              "      <td>...</td>\n",
              "      <td>...</td>\n",
              "      <td>...</td>\n",
              "      <td>...</td>\n",
              "    </tr>\n",
              "    <tr>\n",
              "      <th>395</th>\n",
              "      <td>12262</td>\n",
              "      <td>43166</td>\n",
              "      <td>12.13.</td>\n",
              "      <td>관악구</td>\n",
              "      <td>-</td>\n",
              "      <td>감염경로 조사중</td>\n",
              "      <td>NaN</td>\n",
              "    </tr>\n",
              "    <tr>\n",
              "      <th>396</th>\n",
              "      <td>12261</td>\n",
              "      <td>43063</td>\n",
              "      <td>12.13.</td>\n",
              "      <td>관악구</td>\n",
              "      <td>-</td>\n",
              "      <td>타시도 확진자 접촉</td>\n",
              "      <td>NaN</td>\n",
              "    </tr>\n",
              "    <tr>\n",
              "      <th>397</th>\n",
              "      <td>12260</td>\n",
              "      <td>43061</td>\n",
              "      <td>12.13.</td>\n",
              "      <td>관악구</td>\n",
              "      <td>-</td>\n",
              "      <td>감염경로 조사중</td>\n",
              "      <td>NaN</td>\n",
              "    </tr>\n",
              "    <tr>\n",
              "      <th>398</th>\n",
              "      <td>12259</td>\n",
              "      <td>43055</td>\n",
              "      <td>12.13.</td>\n",
              "      <td>광진구</td>\n",
              "      <td>-</td>\n",
              "      <td>기타 확진자 접촉</td>\n",
              "      <td>NaN</td>\n",
              "    </tr>\n",
              "    <tr>\n",
              "      <th>399</th>\n",
              "      <td>12258</td>\n",
              "      <td>43058</td>\n",
              "      <td>12.13.</td>\n",
              "      <td>광진구</td>\n",
              "      <td>-</td>\n",
              "      <td>종로구 소재 파고다타운 관련</td>\n",
              "      <td>NaN</td>\n",
              "    </tr>\n",
              "  </tbody>\n",
              "</table>\n",
              "<p>400 rows × 7 columns</p>\n",
              "</div>"
            ],
            "text/plain": [
              "        연번     환자     확진일   거주지 여행력              접촉력 퇴원현황\n",
              "0    12657  43494  12.14.  동대문구   -        기타 확진자 접촉  NaN\n",
              "1    12656  43495  12.14.   관악구   -        기타 확진자 접촉  NaN\n",
              "2    12655  44350  12.14.   강서구   -        기타 확진자 접촉  NaN\n",
              "3    12654  44335  12.14.   광진구   -         동부구치소 관련  NaN\n",
              "4    12653  44334  12.14.   광진구   -        기타 확진자 접촉  NaN\n",
              "..     ...    ...     ...   ...  ..              ...  ...\n",
              "395  12262  43166  12.13.   관악구   -         감염경로 조사중  NaN\n",
              "396  12261  43063  12.13.   관악구   -       타시도 확진자 접촉  NaN\n",
              "397  12260  43061  12.13.   관악구   -         감염경로 조사중  NaN\n",
              "398  12259  43055  12.13.   광진구   -        기타 확진자 접촉  NaN\n",
              "399  12258  43058  12.13.   광진구   -  종로구 소재 파고다타운 관련  NaN\n",
              "\n",
              "[400 rows x 7 columns]"
            ]
          },
          "metadata": {
            "tags": []
          },
          "execution_count": 54
        }
      ]
    },
    {
      "cell_type": "code",
      "metadata": {
        "id": "1LIkexwcSIxw"
      },
      "source": [
        ""
      ],
      "execution_count": null,
      "outputs": []
    }
  ]
}